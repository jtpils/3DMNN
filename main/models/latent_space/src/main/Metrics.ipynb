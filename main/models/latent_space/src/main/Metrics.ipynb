{
 "cells": [
  {
   "cell_type": "code",
   "execution_count": 9,
   "metadata": {},
   "outputs": [],
   "source": [
    "import numpy as np\n",
    "import os.path as osp\n",
    "import sys \n",
    "\n",
    "sys.path.append(\"/home/viktorv/Projects/3DMNN/main/models/latent_space/src\")\n",
    "\n",
    "from utils.metrics import minimum_mathing_distance, \\\n",
    "jsd_between_point_cloud_sets, coverage\n",
    "\n",
    "from utils.io import snc_category_to_synth_id,\\\n",
    "                                        load_all_point_clouds_under_folder"
   ]
  },
  {
   "cell_type": "code",
   "execution_count": 10,
   "metadata": {},
   "outputs": [
    {
     "name": "stdout",
     "output_type": "stream",
     "text": [
      "Give me the class name (e.g. \"chair\"): chair\n",
      "<generator object files_in_subdirs at 0x7f0b612e65c8>\n",
      "6778 pclouds were loaded. They belong in 1 shape-classes.\n"
     ]
    }
   ],
   "source": [
    "top_in_dir = '/home/viktorv/Projects/3DMNN/data/point_cloud_sampled/data/shape_net_core_uniform_samples_2048' # Top-dir of where point-clouds are stored.\n",
    "class_name = input('Give me the class name (e.g. \"chair\"): ').lower()\n",
    "syn_id = snc_category_to_synth_id()[class_name]\n",
    "class_dir = osp.join(top_in_dir , syn_id)\n",
    "all_pc_data = load_all_point_clouds_under_folder(class_dir, n_threads=8, file_ending='.ply', verbose=True)"
   ]
  },
  {
   "cell_type": "code",
   "execution_count": 11,
   "metadata": {},
   "outputs": [],
   "source": [
    "\n",
    "n_ref = 100 # size of ref_pcs.\n",
    "n_sam = 150 # size of sample_pcs.\n",
    "all_ids = np.arange(all_pc_data.num_examples)\n",
    "ref_ids = np.random.choice(all_ids, n_ref, replace=False)\n",
    "sam_ids = np.random.choice(all_ids, n_sam, replace=False)\n",
    "ref_pcs = all_pc_data.point_clouds[ref_ids]\n",
    "sample_pcs = all_pc_data.point_clouds[sam_ids]"
   ]
  },
  {
   "cell_type": "code",
   "execution_count": 21,
   "metadata": {},
   "outputs": [],
   "source": [
    "ae_loss = 'emd'  # Which distance to use for the matchings.\n",
    "\n",
    "if ae_loss == 'emd':\n",
    "    use_EMD = True\n",
    "else:\n",
    "    use_EMD = False  # Will use Chamfer instead.\n",
    "\n",
    "mmd, matched_dists = minimum_mathing_distance(sample_pcs, ref_pcs, batch_size, normalize=normalize, use_EMD=use_EMD)\n",
    "cov, matched_ids = coverage(sample_pcs, ref_pcs, 100, normalize=True, use_EMD=use_EMD)\n",
    "jsd = jsd_between_point_cloud_sets(sample_pcs, ref_pcs, resolution=64)"
   ]
  },
  {
   "cell_type": "markdown",
   "metadata": {},
   "source": [
    "# METRICS"
   ]
  },
  {
   "cell_type": "code",
   "execution_count": 24,
   "metadata": {},
   "outputs": [
    {
     "name": "stdout",
     "output_type": "stream",
     "text": [
      "Minimum matching distance: 0.07376092\n",
      "Coverage: 0.65\n"
     ]
    }
   ],
   "source": [
    "print(\"Minimum matching distance: \" + str(mmd))\n",
    "print(\"Coverage: \" + str(cov))\n",
    "\n",
    "# Paper RESULTS\n",
    "# 0.072 0.648"
   ]
  },
  {
   "cell_type": "markdown",
   "metadata": {},
   "source": [
    " Met  |     MMD        | Coverage\n",
    "------|----------------|--------------\n",
    " Best |        0.072   |     64.8%\n",
    " Ours |        0.073   |     65%\n"
   ]
  }
 ],
 "metadata": {
  "kernelspec": {
   "display_name": "3DMNN",
   "language": "python",
   "name": "3dmnn_cu9"
  },
  "language_info": {
   "codemirror_mode": {
    "name": "ipython",
    "version": 3
   },
   "file_extension": ".py",
   "mimetype": "text/x-python",
   "name": "python",
   "nbconvert_exporter": "python",
   "pygments_lexer": "ipython3",
   "version": "3.6.6"
  }
 },
 "nbformat": 4,
 "nbformat_minor": 2
}
