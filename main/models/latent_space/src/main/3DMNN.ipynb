{
 "cells": [
  {
   "cell_type": "markdown",
   "metadata": {},
   "source": [
    "# 3DMNN\n",
    "#### EXPERIMENTS"
   ]
  },
  {
   "cell_type": "code",
   "execution_count": 2,
   "metadata": {},
   "outputs": [
    {
     "name": "stdout",
     "output_type": "stream",
     "text": [
      "<generator object files_in_subdirs at 0x7f9a284cc360>\n",
      "4045 pclouds were loaded. They belong in 1 shape-classes.\n",
      "WARNING:tensorflow:From /home/viktorv/.conda/envs/3dmnn_cu9/lib/python3.6/site-packages/tflearn/initializations.py:119: UniformUnitScaling.__init__ (from tensorflow.python.ops.init_ops) is deprecated and will be removed in a future version.\n",
      "Instructions for updating:\n",
      "Use tf.initializers.variance_scaling instead with distribution=uniform to get equivalent behavior.\n",
      "INFO:tensorflow:Restoring parameters from /home/viktorv/Projects/3DMNN/data/point_cloud_sampled/data/single_class_ae/models.ckpt-10\n",
      "Epoch: 0011 training time (minutes)= 0.2706 loss= 0.043360965\n",
      "Epoch: 0012 training time (minutes)= 0.2528 loss= 0.039402440\n",
      "Epoch: 0013 training time (minutes)= 0.2530 loss= 0.039351557\n",
      "Epoch: 0014 training time (minutes)= 0.2531 loss= 0.038678695\n",
      "Epoch: 0015 training time (minutes)= 0.2532 loss= 0.039132061\n",
      "Epoch: 0016 training time (minutes)= 0.2534 loss= 0.038443989\n",
      "Epoch: 0017 training time (minutes)= 0.2532 loss= 0.038484954\n",
      "Epoch: 0018 training time (minutes)= 0.2531 loss= 0.037860367\n",
      "Epoch: 0019 training time (minutes)= 0.2532 loss= 0.037640555\n",
      "Epoch: 0020 training time (minutes)= 0.2532 loss= 0.037496208\n",
      "INFO:tensorflow:/home/viktorv/Projects/3DMNN/data/point_cloud_sampled/data/single_class_ae/models.ckpt-20 is not in all_model_checkpoint_paths. Manually adding it.\n",
      "Epoch: 0021 training time (minutes)= 0.2534 loss= 0.036856540\n",
      "Epoch: 0022 training time (minutes)= 0.2532 loss= 0.036975721\n",
      "Epoch: 0023 training time (minutes)= 0.2533 loss= 0.036346687\n",
      "Epoch: 0024 training time (minutes)= 0.2532 loss= 0.036836570\n",
      "Epoch: 0025 training time (minutes)= 0.2532 loss= 0.036166542\n",
      "Epoch: 0026 training time (minutes)= 0.2532 loss= 0.035890822\n",
      "Epoch: 0027 training time (minutes)= 0.2531 loss= 0.036489781\n",
      "Epoch: 0028 training time (minutes)= 0.2530 loss= 0.035906327\n",
      "Epoch: 0029 training time (minutes)= 0.2530 loss= 0.036002334\n",
      "Epoch: 0030 training time (minutes)= 0.2531 loss= 0.035415723\n",
      "INFO:tensorflow:/home/viktorv/Projects/3DMNN/data/point_cloud_sampled/data/single_class_ae/models.ckpt-30 is not in all_model_checkpoint_paths. Manually adding it.\n",
      "Epoch: 0031 training time (minutes)= 0.2531 loss= 0.035653107\n",
      "Epoch: 0032 training time (minutes)= 0.2532 loss= 0.036068301\n",
      "Epoch: 0033 training time (minutes)= 0.2530 loss= 0.035333962\n",
      "Epoch: 0034 training time (minutes)= 0.2531 loss= 0.034563615\n",
      "Epoch: 0035 training time (minutes)= 0.2532 loss= 0.034830380\n",
      "Epoch: 0036 training time (minutes)= 0.2531 loss= 0.034840979\n",
      "Epoch: 0037 training time (minutes)= 0.2531 loss= 0.034457236\n",
      "Epoch: 0038 training time (minutes)= 0.2531 loss= 0.034644484\n",
      "Epoch: 0039 training time (minutes)= 0.2531 loss= 0.034287129\n",
      "Epoch: 0040 training time (minutes)= 0.2531 loss= 0.034880617\n",
      "INFO:tensorflow:/home/viktorv/Projects/3DMNN/data/point_cloud_sampled/data/single_class_ae/models.ckpt-40 is not in all_model_checkpoint_paths. Manually adding it.\n",
      "Epoch: 0041 training time (minutes)= 0.2533 loss= 0.034684884\n",
      "Epoch: 0042 training time (minutes)= 0.2531 loss= 0.033767370\n",
      "Epoch: 0043 training time (minutes)= 0.2531 loss= 0.033840807\n",
      "Epoch: 0044 training time (minutes)= 0.2531 loss= 0.033851594\n",
      "Epoch: 0045 training time (minutes)= 0.2530 loss= 0.033706278\n",
      "Epoch: 0046 training time (minutes)= 0.2530 loss= 0.033816052\n",
      "Epoch: 0047 training time (minutes)= 0.2530 loss= 0.033943053\n",
      "Epoch: 0048 training time (minutes)= 0.2531 loss= 0.034216884\n",
      "Epoch: 0049 training time (minutes)= 0.2531 loss= 0.033494700\n",
      "Epoch: 0050 training time (minutes)= 0.2531 loss= 0.033466247\n",
      "INFO:tensorflow:/home/viktorv/Projects/3DMNN/data/point_cloud_sampled/data/single_class_ae/models.ckpt-50 is not in all_model_checkpoint_paths. Manually adding it.\n",
      "Epoch: 0051 training time (minutes)= 0.2532 loss= 0.033581436\n",
      "Epoch: 0052 training time (minutes)= 0.2530 loss= 0.033193982\n",
      "Epoch: 0053 training time (minutes)= 0.2530 loss= 0.032837519\n",
      "Epoch: 0054 training time (minutes)= 0.2531 loss= 0.033057275\n",
      "Epoch: 0055 training time (minutes)= 0.2531 loss= 0.033738840\n",
      "Epoch: 0056 training time (minutes)= 0.2531 loss= 0.033462931\n",
      "Epoch: 0057 training time (minutes)= 0.2530 loss= 0.033223586\n",
      "Epoch: 0058 training time (minutes)= 0.2531 loss= 0.032779148\n",
      "Epoch: 0059 training time (minutes)= 0.2530 loss= 0.033388439\n",
      "Epoch: 0060 training time (minutes)= 0.2531 loss= 0.033093278\n",
      "INFO:tensorflow:/home/viktorv/Projects/3DMNN/data/point_cloud_sampled/data/single_class_ae/models.ckpt-60 is not in all_model_checkpoint_paths. Manually adding it.\n",
      "Epoch: 0061 training time (minutes)= 0.2533 loss= 0.032966733\n",
      "Epoch: 0062 training time (minutes)= 0.2531 loss= 0.032746321\n",
      "Epoch: 0063 training time (minutes)= 0.2530 loss= 0.032865838\n",
      "Epoch: 0064 training time (minutes)= 0.2530 loss= 0.032622708\n",
      "Epoch: 0065 training time (minutes)= 0.2530 loss= 0.032538630\n",
      "Epoch: 0066 training time (minutes)= 0.2529 loss= 0.032549136\n",
      "Epoch: 0067 training time (minutes)= 0.2530 loss= 0.032689877\n",
      "Epoch: 0068 training time (minutes)= 0.2530 loss= 0.032706861\n",
      "Epoch: 0069 training time (minutes)= 0.2531 loss= 0.032760957\n",
      "Epoch: 0070 training time (minutes)= 0.2530 loss= 0.032738839\n",
      "INFO:tensorflow:/home/viktorv/Projects/3DMNN/data/point_cloud_sampled/data/single_class_ae/models.ckpt-70 is not in all_model_checkpoint_paths. Manually adding it.\n",
      "Epoch: 0071 training time (minutes)= 0.2533 loss= 0.033007378\n",
      "Epoch: 0072 training time (minutes)= 0.2532 loss= 0.032046585\n",
      "Epoch: 0073 training time (minutes)= 0.2531 loss= 0.032658949\n",
      "Epoch: 0074 training time (minutes)= 0.2530 loss= 0.032356620\n",
      "Epoch: 0075 training time (minutes)= 0.2531 loss= 0.032140944\n",
      "Epoch: 0076 training time (minutes)= 0.2531 loss= 0.032153857\n",
      "Epoch: 0077 training time (minutes)= 0.2530 loss= 0.032096118\n",
      "Epoch: 0078 training time (minutes)= 0.2530 loss= 0.032463498\n",
      "Epoch: 0079 training time (minutes)= 0.2530 loss= 0.031885816\n"
     ]
    }
   ],
   "source": [
    "import os.path as osp\n",
    "import sys\n",
    "import matplotlib.pyplot as plt\n",
    "import numpy as np\n",
    "\n",
    "sys.path.append(\"/home/viktorv/Projects/3DMNN/main/models/latent_space/src\")\n",
    "\n",
    "from classes.autoencoder import Configuration as Conf\n",
    "from classes.gan import ConfigurationGAN as ConfGAN\n",
    "from classes.pointnet_ae import PointNetAutoEncoder\n",
    "\n",
    "from utils.templates import innofair_architecture\n",
    "from utils.templates import autoencoder_paper, default_train_params\n",
    "from utils.io import obj_wrapper, generate_mitsuba_xml\n",
    "\n",
    "from utils.io import snc_category_to_synth_id, create_dir, PointCloudDataSet, \\\n",
    "                                        load_all_point_clouds_under_folder\n",
    "\n",
    "from utils.utils import reset_tf_graph\n",
    "from classes.latent_gan import LatentGAN\n",
    "\n",
    "top_out_dir = '/home/viktorv/Projects/3DMNN/data/point_cloud_sampled/data'          # Use to save Neural-Net check-points etc.\n",
    "top_in_dir = '/home/viktorv/Projects/3DMNN/data/point_cloud_sampled/data/shape_net_core_uniform_samples_2048/' # Top-dir of where point-clouds are stored.\n",
    "\n",
    "experiment_name = 'single_class_ae'\n",
    "n_pc_points = 2048                # Number of points per model.\n",
    "bneck_size = 128                  # Bottleneck-AE size\n",
    "ae_loss = 'emd'                   # Loss to optimize: 'emd' or 'chamfer'\n",
    "\n",
    "#class_name = input('Give me the class name (e.g. \"chair\"): ').lower()\n",
    "class_name = \"airplane\"\n",
    "\n",
    "syn_id = snc_category_to_synth_id()[class_name]\n",
    "class_dir = osp.join(top_in_dir, syn_id)\n",
    "\n",
    "all_pc_data = load_all_point_clouds_under_folder(class_dir, n_threads=8, file_ending='.ply', verbose=True)\n",
    "train_dir = create_dir(osp.join(top_out_dir, experiment_name))\n",
    "\n",
    "# train_params = default_train_params()\n",
    "\n",
    "# encoder, decoder, enc_args, dec_args = autoencoder_paper(n_pc_points, bneck_size)\n",
    "\n",
    "\n",
    "# conf = Conf(\n",
    "#     n_input = [n_pc_points, 3],\n",
    "#     loss = ae_loss,\n",
    "#     training_epochs = 69,\n",
    "#     batch_size = train_params['batch_size'],\n",
    "#     denoising = train_params['denoising'],\n",
    "#     learning_rate = train_params['learning_rate'],\n",
    "#     train_dir = train_dir,\n",
    "#     loss_display_step = train_params['loss_display_step'],\n",
    "#     saver_step = train_params['saver_step'],\n",
    "#     z_rotate = train_params['z_rotate'],\n",
    "#     encoder = encoder,\n",
    "#     decoder = decoder,\n",
    "#     encoder_args = enc_args,\n",
    "#     decoder_args = dec_args\n",
    "# )\n",
    "# conf.experiment_name = experiment_name\n",
    "# conf.held_out_step = 5   # How often to evaluate/print out loss on \n",
    "#                          # held_out data (if they are provided in ae.train() ).\n",
    "# conf.save(osp.join(train_dir, 'configuration'))\n",
    "\n",
    "# reset_tf_graph()\n",
    "# ae = PointNetAutoEncoder(conf.experiment_name, conf)\n",
    "\n",
    "# buf_size = 1 # Make 'training_stats' file to flush each output line regarding training.\n",
    "# fout = open(osp.join(conf.train_dir, 'train_stats.txt'), 'a', buf_size)\n",
    "# train_stats = ae.train(all_pc_data, conf, log_file=fout)\n",
    "# fout.close()\n",
    "\n",
    "conf = Conf.load(train_dir + \"/configuration\")\n",
    "conf.encoder_args['verbose'] = False\n",
    "conf.decoder_args['verbose'] = False\n",
    "\n",
    "reset_tf_graph()\n",
    "\n",
    "ae = PointNetAutoEncoder(conf.experiment_name, conf)\n",
    "ae.restore_model(conf.train_dir, 10, verbose=False)\n",
    "\n",
    "buf_size = 1 # Make 'training_stats' file to flush each output line regarding training.\n",
    "fout = open(osp.join(conf.train_dir, 'train_stats.txt'), 'a', buf_size)\n",
    "train_stats = ae.train(all_pc_data, conf, log_file=fout)\n",
    "fout.close()"
   ]
  },
  {
   "cell_type": "markdown",
   "metadata": {},
   "source": [
    "Trained a simple point net auto encoder... Define reconstruct and interpolate functions"
   ]
  },
  {
   "cell_type": "code",
   "execution_count": 7,
   "metadata": {},
   "outputs": [
    {
     "name": "stdout",
     "output_type": "stream",
     "text": [
      "(2048, 3)\n",
      "Reconstruction item shape: (2048, 3)\n",
      "Reconstructed\n",
      "Reconstruction item shape: (2048, 3)\n",
      "Reconstructed\n",
      "Generating interpolations\n",
      "(1, 2048, 3)\n",
      "(1, 2048, 3)\n",
      "Interpolation Complete\n",
      "(62, 2048, 3)\n"
     ]
    }
   ],
   "source": [
    "print(all_pc_data.point_clouds[-1].shape)\n",
    "\n",
    "import random as rd\n",
    "\n",
    "from_int = rd.randint(0, 4000)\n",
    "to_int = rd.randint(0, 4000)\n",
    "\n",
    "reconstruction_from = np.asarray(ae.reconstruct(all_pc_data.point_clouds[from_int].reshape(1,2048,3)))\n",
    "reconstruction_to = np.asarray(ae.reconstruct(all_pc_data.point_clouds[to_int].reshape(1,2048,3)))\n",
    "\n",
    "#data for the latent gan\n",
    "latent_codes = ae.get_latent_codes(all_pc_data.point_clouds)\n",
    "\n",
    "def reconstruct_obj(reconstructions):\n",
    "    print(\"Reconstruction item shape:\", reconstructions[0].shape)\n",
    "    \n",
    "    for i, reconstruction in enumerate(reconstructions):\n",
    "        obj_wrapper(reconstruction, class_name, i)\n",
    "        \n",
    "    print(\"Reconstructed\")\n",
    "\n",
    "def interpolate(_from, _to, steps=10):\n",
    "    \n",
    "    print(\"Generating interpolations\")\n",
    "    print(_from.shape)\n",
    "    print(_to.shape)\n",
    "    \n",
    "    interpolations = ae.interpolate(_from, _to, steps)\n",
    "\n",
    "    for i, interpolation in enumerate(interpolations):\n",
    "        obj_wrapper(interpolation, class_name + \"_intr\", i)\n",
    "        generate_mitsuba_xml(interpolation, class_name, i, variation=False)\n",
    "        \n",
    "    print(\"Interpolation Complete\")\n",
    "    print(interpolations.shape)\n",
    "\n",
    "reconstruct_obj(reconstruction_from[0])\n",
    "reconstruct_obj(reconstruction_to[0])\n",
    "\n",
    "interpolate(reconstruction_from[0], reconstruction_to[0], steps=60)"
   ]
  },
  {
   "cell_type": "markdown",
   "metadata": {},
   "source": [
    "Create and Configure GAN..."
   ]
  },
  {
   "cell_type": "code",
   "execution_count": 4,
   "metadata": {},
   "outputs": [
    {
     "name": "stdout",
     "output_type": "stream",
     "text": [
      "(4045, 128)\n",
      "{'init_lr': 0.0001, 'lambda': 10, 'n_out': [128], 'noise_dim': 128, 'beta': 0.5, 'batch_size': 50, 'noise_params': {'mu': 0, 'sigma': 0.2}}\n",
      "Calculating initial GP...\n"
     ]
    }
   ],
   "source": [
    "generator, discriminator, params = innofair_architecture(128)\n",
    "\n",
    "print(latent_codes.shape)\n",
    "print(params)\n",
    "# TODO:\n",
    "# 5. Implement Conditional GAN in the LGAN\n",
    "\n",
    "reset_tf_graph()\n",
    "gan = LatentGAN(experiment_name, params['init_lr'], params['lambda'], params['n_out'],\\\n",
    "                params['noise_dim'], discriminator, generator, beta=params['beta'])\n"
   ]
  },
  {
   "cell_type": "code",
   "execution_count": 5,
   "metadata": {},
   "outputs": [
    {
     "name": "stdout",
     "output_type": "stream",
     "text": [
      "INFO:tensorflow:./models_checkpoints/models.ckpt-1000 is not in all_model_checkpoint_paths. Manually adding it.\n"
     ]
    },
    {
     "name": "stderr",
     "output_type": "stream",
     "text": [
      "/home/viktorv/.conda/envs/3dmnn_cu9/lib/python3.6/site-packages/matplotlib/cbook/__init__.py:424: MatplotlibDeprecationWarning: \n",
      "Passing one of 'on', 'true', 'off', 'false' as a boolean is deprecated; use an actual boolean (True/False) instead.\n",
      "  warn_deprecated(\"2.2\", \"Passing one of 'on', 'true', 'off', 'false' as a \"\n"
     ]
    },
    {
     "data": {
      "image/png": "[encoded data removed]",
      "text/plain": [
       "<Figure size 432x288 with 1 Axes>"
      ]
     },
     "metadata": {
      "needs_background": "light"
     },
     "output_type": "display_data"
    }
   ],
   "source": [
    "accum_syn_data = []\n",
    "train_stats = []\n",
    "n_epochs = 1000\n",
    "# Train the GAN.\n",
    "saver_step = np.hstack([np.array([1, 5, 10]), np.arange(50, n_epochs + 1, 50)])\n",
    "latent_data = PointCloudDataSet(latent_codes)\n",
    "\n",
    "gan.train(latent_data, params, n_epochs, \"./models_checkpoints/\", save_gan_model=True, \\\n",
    "          saver_step=saver_step, train_stats=train_stats)"
   ]
  },
  {
   "cell_type": "code",
   "execution_count": 6,
   "metadata": {},
   "outputs": [
    {
     "name": "stdout",
     "output_type": "stream",
     "text": [
      "(10, 128)\n",
      "(10, 2048, 3)\n",
      "Reconstruction item shape: (2048, 3)\n",
      "Reconstructed\n"
     ]
    }
   ],
   "source": [
    "syn_latent_data = gan.generate(10, params[\"noise_params\"])\n",
    "print(syn_latent_data.shape)\n",
    "\n",
    "syn_data = []\n",
    "for vector in syn_latent_data:\n",
    "    syn_data.append(ae.decode(vector))\n",
    "    \n",
    "syn_data = np.asarray(syn_data).reshape((10,2048,3))\n",
    "print(syn_data.shape)\n",
    "\n",
    "reconstruct_obj(syn_data)\n",
    "for i, data in enumerate(syn_data):\n",
    "    generate_mitsuba_xml(data, class_name + \"_gen\", i)\n"
   ]
  },
  {
   "cell_type": "markdown",
   "metadata": {},
   "source": [
    "# TODO\n",
    "### 1. Rewrite CONF Class to fit GANs - DONE\n",
    "### 2. Implement Discriminator, Generator for the simple LGAN - DONE\n",
    "### 3. Train\n",
    "### 4. Try to decode something generated\n",
    "### 5. Implement Conditional GAN in the LGAN \n",
    "### 6. Go to 3 and 4 again"
   ]
  }
 ],
 "metadata": {
  "kernelspec": {
   "display_name": "3DMNN",
   "language": "python",
   "name": "3dmnn_cu9"
  },
  "language_info": {
   "codemirror_mode": {
    "name": "ipython",
    "version": 3
   },
   "file_extension": ".py",
   "mimetype": "text/x-python",
   "name": "python",
   "nbconvert_exporter": "python",
   "pygments_lexer": "ipython3",
   "version": "3.6.6"
  }
 },
 "nbformat": 4,
 "nbformat_minor": 2
}
