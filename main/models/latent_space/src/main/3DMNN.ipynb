{
 "cells": [
  {
   "cell_type": "markdown",
   "metadata": {},
   "source": [
    "# 3DMNN\n",
    "#### EXPERIMENTS"
   ]
  },
  {
   "cell_type": "code",
   "execution_count": 1,
   "metadata": {},
   "outputs": [
    {
     "name": "stdout",
     "output_type": "stream",
     "text": [
      "<generator object files_in_subdirs at 0x7f855c3601a8>\n",
      "4045 pclouds were loaded. They belong in 1 shape-classes.\n",
      "WARNING:tensorflow:From /home/viktorv/.conda/envs/3dmnn_cu9/lib/python3.6/site-packages/tflearn/initializations.py:119: UniformUnitScaling.__init__ (from tensorflow.python.ops.init_ops) is deprecated and will be removed in a future version.\n",
      "Instructions for updating:\n",
      "Use tf.initializers.variance_scaling instead with distribution=uniform to get equivalent behavior.\n",
      "INFO:tensorflow:Restoring parameters from /home/viktorv/Projects/3DMNN/data/point_cloud_sampled/data/single_class_ae/models.ckpt-50\n",
      "Model restored in epoch 50.\n"
     ]
    }
   ],
   "source": [
    "import os.path as osp\n",
    "import sys\n",
    "import matplotlib.pyplot as plt\n",
    "import numpy as np\n",
    "\n",
    "sys.path.append(\"/home/viktorv/Projects/3DMNN/main/models/latent_space/src\")\n",
    "\n",
    "from classes.autoencoder import Configuration as Conf\n",
    "from classes.gan import ConfigurationGAN as ConfGAN\n",
    "from classes.pointnet_ae import PointNetAutoEncoder\n",
    "\n",
    "from utils.templates import innofair_architecture\n",
    "from utils.templates import autoencoder_paper, default_train_params\n",
    "from utils.io import obj_wrapper\n",
    "\n",
    "from utils.io import snc_category_to_synth_id, create_dir, PointCloudDataSet, \\\n",
    "                                        load_all_point_clouds_under_folder\n",
    "\n",
    "from utils.utils import reset_tf_graph\n",
    "from classes.latent_gan import LatentGAN\n",
    "from utils.plyfile import PlyData, PlyElement\n",
    "\n",
    "top_out_dir = '/home/viktorv/Projects/3DMNN/data/point_cloud_sampled/data'          # Use to save Neural-Net check-points etc.\n",
    "top_in_dir = '/home/viktorv/Projects/3DMNN/data/point_cloud_sampled/data/shape_net_core_uniform_samples_2048/' # Top-dir of where point-clouds are stored.\n",
    "\n",
    "experiment_name = 'single_class_ae'\n",
    "n_pc_points = 2048                # Number of points per model.\n",
    "bneck_size = 128                  # Bottleneck-AE size\n",
    "ae_loss = 'emd'                   # Loss to optimize: 'emd' or 'chamfer'\n",
    "\n",
    "class_name = \"airplane\"\n",
    "\n",
    "syn_id = snc_category_to_synth_id()[class_name]\n",
    "class_dir = osp.join(top_in_dir, syn_id)\n",
    "\n",
    "all_pc_data = load_all_point_clouds_under_folder(class_dir, n_threads=8, file_ending='.ply', verbose=True)\n",
    "\n",
    "# train_params = default_train_params()\n",
    "\n",
    "# encoder, decoder, enc_args, dec_args = autoencoder_paper(n_pc_points, bneck_size)\n",
    "train_dir = create_dir(osp.join(top_out_dir, experiment_name))\n",
    "\n",
    "# conf = Conf(\n",
    "#     n_input = [n_pc_points, 3],\n",
    "#     loss = ae_loss,\n",
    "#     training_epochs = 50,\n",
    "#     batch_size = train_params['batch_size'],\n",
    "#     denoising = train_params['denoising'],\n",
    "#     learning_rate = train_params['learning_rate'],\n",
    "#     train_dir = train_dir,\n",
    "#     loss_display_step = train_params['loss_display_step'],\n",
    "#     saver_step = train_params['saver_step'],\n",
    "#     z_rotate = train_params['z_rotate'],\n",
    "#     encoder = encoder,\n",
    "#     decoder = decoder,\n",
    "#     encoder_args = enc_args,\n",
    "#     decoder_args = dec_args\n",
    "# )\n",
    "# conf.experiment_name = experiment_name\n",
    "# conf.held_out_step = 5   # How often to evaluate/print out loss on \n",
    "#                          # held_out data (if they are provided in ae.train() ).\n",
    "# conf.save(osp.join(train_dir, 'configuration'))\n",
    "\n",
    "\n",
    "# ae = PointNetAutoEncoder(conf.experiment_name, conf)\n",
    "\n",
    "# buf_size = 1 # Make 'training_stats' file to flush each output line regarding training.\n",
    "# fout = open(osp.join(conf.train_dir, 'train_stats.txt'), 'a', buf_size)\n",
    "# train_stats = ae.train(all_pc_data, conf, log_file=fout)\n",
    "# fout.close()\n",
    "\n",
    "conf = Conf.load(train_dir + \"/configuration\")\n",
    "conf.encoder_args['verbose'] = False\n",
    "conf.decoder_args['verbose'] = False\n",
    "\n",
    "reset_tf_graph()\n",
    "ae = PointNetAutoEncoder(conf.experiment_name, conf)\n",
    "ae.restore_model(conf.train_dir, 50, verbose=True)\n"
   ]
  },
  {
   "cell_type": "markdown",
   "metadata": {},
   "source": [
    "Trained a simple point net auto encoder... Define reconstruct and interpolate functions"
   ]
  },
  {
   "cell_type": "code",
   "execution_count": 2,
   "metadata": {},
   "outputs": [],
   "source": [
    "#reconstructions = np.asarray(ae.reconstruct(feed_pc))\n",
    "latent_codes = ae.get_latent_codes(all_pc_data.point_clouds)\n",
    "\n",
    "def reconstruct_obj(reconstructions):\n",
    "    print(\"Reconstruction item shape:\", reconstructions[0].shape)\n",
    "    \n",
    "    for i, reconstruction in enumerate(reconstructions):\n",
    "        obj_wrapper(reconstruction, class_name, i)\n",
    "        \n",
    "    print(\"Reconstructed\")\n",
    "\n",
    "def interpolate(_from, _to, steps=10):\n",
    "    \n",
    "    print(\"Generating interpolations\")\n",
    "    interpolations = ae.interpolate(reconstructions[0][_from], reconstructions[0][_to], steps)\n",
    "\n",
    "    for i, interpolation in enumerate(interpolations):\n",
    "        obj_wrapper(interpolation, class_name + \"_intr\", i)\n",
    "\n",
    "    print(\"Interpolation Complete\")\n",
    "    print(interpolations.shape)"
   ]
  },
  {
   "cell_type": "markdown",
   "metadata": {},
   "source": [
    "Create and Configure GAN..."
   ]
  },
  {
   "cell_type": "code",
   "execution_count": 3,
   "metadata": {},
   "outputs": [
    {
     "name": "stdout",
     "output_type": "stream",
     "text": [
      "(4045, 128)\n",
      "{'init_lr': 0.0001, 'lambda': 10, 'n_out': [128], 'noise_dim': 128, 'beta': 0.5, 'batch_size': 50, 'noise_params': {'mu': 0, 'sigma': 0.2}}\n",
      "Calculating initial GP...\n"
     ]
    }
   ],
   "source": [
    "generator, discriminator, params = innofair_architecture(128)\n",
    "\n",
    "print(latent_codes.shape)\n",
    "print(params)\n",
    "# TODO:\n",
    "# 5. Implement Conditional GAN in the LGAN\n",
    "\n",
    "reset_tf_graph()\n",
    "gan = LatentGAN(experiment_name, params['init_lr'], params['lambda'], params['n_out'],\\\n",
    "                params['noise_dim'], discriminator, generator, beta=params['beta'])\n"
   ]
  },
  {
   "cell_type": "code",
   "execution_count": 4,
   "metadata": {},
   "outputs": [
    {
     "name": "stdout",
     "output_type": "stream",
     "text": [
      "1 (-10.777133282274008, -1.3488493933691643)\n",
      "INFO:tensorflow:./models_checkpoints/models.ckpt-1 is not in all_model_checkpoint_paths. Manually adding it.\n",
      "2 (-20.667162585258485, -4.674676641821861)\n",
      "3 (-20.07437026500702, -5.6529815793037415)\n",
      "4 (-19.097456955909728, -6.293584406375885)\n",
      "5 (-18.05333204269409, -6.950708389282227)\n",
      "INFO:tensorflow:./models_checkpoints/models.ckpt-5 is not in all_model_checkpoint_paths. Manually adding it.\n",
      "6 (-16.949535131454468, -7.547347217798233)\n",
      "7 (-15.81203272342682, -8.112374693155289)\n",
      "8 (-14.651004338264466, -8.615529358386993)\n",
      "9 (-13.522150540351868, -8.942264676094055)\n",
      "10 (-12.431158721446991, -9.154445350170135)\n",
      "INFO:tensorflow:./models_checkpoints/models.ckpt-10 is not in all_model_checkpoint_paths. Manually adding it.\n"
     ]
    },
    {
     "name": "stderr",
     "output_type": "stream",
     "text": [
      "/home/viktorv/.conda/envs/3dmnn_cu9/lib/python3.6/site-packages/matplotlib/cbook/__init__.py:424: MatplotlibDeprecationWarning: \n",
      "Passing one of 'on', 'true', 'off', 'false' as a boolean is deprecated; use an actual boolean (True/False) instead.\n",
      "  warn_deprecated(\"2.2\", \"Passing one of 'on', 'true', 'off', 'false' as a \"\n"
     ]
    },
    {
     "data": {
      "image/png": "[encoded data removed]",
      "text/plain": [
       "<Figure size 432x288 with 1 Axes>"
      ]
     },
     "metadata": {
      "needs_background": "light"
     },
     "output_type": "display_data"
    }
   ],
   "source": [
    "accum_syn_data = []\n",
    "train_stats = []\n",
    "n_epochs = 10\n",
    "# Train the GAN.\n",
    "saver_step = np.hstack([np.array([1, 5, 10]), np.arange(50, n_epochs + 1, 50)])\n",
    "latent_data = PointCloudDataSet(latent_codes)\n",
    "\n",
    "gan.train(latent_data, params, n_epochs, \"./models_checkpoints/\", save_gan_model=True, \\\n",
    "          saver_step=saver_step, train_stats=train_stats)"
   ]
  },
  {
   "cell_type": "code",
   "execution_count": 5,
   "metadata": {},
   "outputs": [
    {
     "name": "stdout",
     "output_type": "stream",
     "text": [
      "(5, 2048, 3)\n"
     ]
    },
    {
     "ename": "AttributeError",
     "evalue": "'tuple' object has no attribute 'pop'",
     "output_type": "error",
     "traceback": [
      "\u001b[0;31m---------------------------------------------------------------------------\u001b[0m",
      "\u001b[0;31mAttributeError\u001b[0m                            Traceback (most recent call last)",
      "\u001b[0;32m<ipython-input-5-f2551b11369f>\u001b[0m in \u001b[0;36m<module>\u001b[0;34m\u001b[0m\n\u001b[1;32m      7\u001b[0m \u001b[0;32mfor\u001b[0m \u001b[0mi\u001b[0m\u001b[0;34m,\u001b[0m \u001b[0me\u001b[0m \u001b[0;32min\u001b[0m \u001b[0menumerate\u001b[0m\u001b[0;34m(\u001b[0m\u001b[0msyn_data\u001b[0m\u001b[0;34m)\u001b[0m\u001b[0;34m:\u001b[0m\u001b[0;34m\u001b[0m\u001b[0m\n\u001b[1;32m      8\u001b[0m     \u001b[0mpc\u001b[0m \u001b[0;34m=\u001b[0m \u001b[0me\u001b[0m\u001b[0;34m.\u001b[0m\u001b[0mreshape\u001b[0m\u001b[0;34m(\u001b[0m\u001b[0;36m2048\u001b[0m\u001b[0;34m*\u001b[0m\u001b[0;36m3\u001b[0m\u001b[0;34m)\u001b[0m\u001b[0;34m\u001b[0m\u001b[0m\n\u001b[0;32m----> 9\u001b[0;31m     \u001b[0mpc_ply\u001b[0m \u001b[0;34m=\u001b[0m \u001b[0mPlyElement\u001b[0m\u001b[0;34m.\u001b[0m\u001b[0mdescribe\u001b[0m\u001b[0;34m(\u001b[0m\u001b[0mpc\u001b[0m\u001b[0;34m,\u001b[0m \u001b[0;34m\"generated_%s\"\u001b[0m \u001b[0;34m%\u001b[0m \u001b[0mi\u001b[0m\u001b[0;34m)\u001b[0m\u001b[0;34m\u001b[0m\u001b[0m\n\u001b[0m\u001b[1;32m     10\u001b[0m     \u001b[0mPlyData\u001b[0m\u001b[0;34m(\u001b[0m\u001b[0;34m[\u001b[0m\u001b[0mpc_ply\u001b[0m\u001b[0;34m]\u001b[0m\u001b[0;34m,\u001b[0m \u001b[0mbyte_order\u001b[0m\u001b[0;34m=\u001b[0m\u001b[0;34m\"<\"\u001b[0m\u001b[0;34m)\u001b[0m\u001b[0;34m.\u001b[0m\u001b[0mwrite\u001b[0m\u001b[0;34m(\u001b[0m\u001b[0;34m\"binTest%s.ply\"\u001b[0m\u001b[0;34m%\u001b[0m\u001b[0mi\u001b[0m\u001b[0;34m)\u001b[0m\u001b[0;34m\u001b[0m\u001b[0m\n",
      "\u001b[0;32m~/Projects/3DMNN/main/models/latent_space/src/utils/plyfile.py\u001b[0m in \u001b[0;36mdescribe\u001b[0;34m(data, name, len_types, val_types, comments)\u001b[0m\n\u001b[1;32m    530\u001b[0m         \u001b[0mdescr\u001b[0m \u001b[0;34m=\u001b[0m \u001b[0mdata\u001b[0m\u001b[0;34m.\u001b[0m\u001b[0mdtype\u001b[0m\u001b[0;34m.\u001b[0m\u001b[0mdescr\u001b[0m\u001b[0;34m\u001b[0m\u001b[0m\n\u001b[1;32m    531\u001b[0m         \u001b[0mldesc\u001b[0m \u001b[0;34m=\u001b[0m \u001b[0mlist\u001b[0m\u001b[0;34m(\u001b[0m\u001b[0mdescr\u001b[0m\u001b[0;34m)\u001b[0m\u001b[0;34m\u001b[0m\u001b[0m\n\u001b[0;32m--> 532\u001b[0;31m         \u001b[0mldesc\u001b[0m\u001b[0;34m[\u001b[0m\u001b[0;36m0\u001b[0m\u001b[0;34m]\u001b[0m\u001b[0;34m.\u001b[0m\u001b[0mpop\u001b[0m\u001b[0;34m(\u001b[0m\u001b[0;36m0\u001b[0m\u001b[0;34m)\u001b[0m\u001b[0;34m\u001b[0m\u001b[0m\n\u001b[0m\u001b[1;32m    533\u001b[0m         \u001b[0mdescr\u001b[0m \u001b[0;34m=\u001b[0m \u001b[0mtuple\u001b[0m\u001b[0;34m(\u001b[0m\u001b[0mldesc\u001b[0m\u001b[0;34m)\u001b[0m\u001b[0;34m\u001b[0m\u001b[0m\n\u001b[1;32m    534\u001b[0m         \u001b[0mprint\u001b[0m\u001b[0;34m(\u001b[0m\u001b[0mdescr\u001b[0m\u001b[0;34m)\u001b[0m\u001b[0;34m\u001b[0m\u001b[0m\n",
      "\u001b[0;31mAttributeError\u001b[0m: 'tuple' object has no attribute 'pop'"
     ]
    }
   ],
   "source": [
    "syn_latent_data = gan.generate(5, params[\"noise_params\"])\n",
    "syn_data = ae.decode(syn_latent_data)\n",
    "print(syn_data.shape)\n",
    "elements = []\n",
    "data = []\n",
    "\n",
    "for i, e in enumerate(syn_data):\n",
    "    pc = e.reshape(2048*3)\n",
    "    pc_ply = PlyElement.describe(pc, \"generated_%s\" % i)\n",
    "    PlyData([pc_ply], byte_order=\"<\").write(\"binTest%s.ply\"%i)"
   ]
  },
  {
   "cell_type": "code",
   "execution_count": null,
   "metadata": {},
   "outputs": [],
   "source": []
  },
  {
   "cell_type": "code",
   "execution_count": null,
   "metadata": {},
   "outputs": [],
   "source": []
  },
  {
   "cell_type": "markdown",
   "metadata": {},
   "source": [
    "# TODO\n",
    "### 1. Rewrite CONF Class to fit GANs - DONE\n",
    "### 2. Implement Discriminator, Generator for the simple LGAN - DONE\n",
    "### 3. Train\n",
    "### 4. Try to decode something generated\n",
    "### 5. Implement Conditional GAN in the LGAN \n",
    "### 6. Go to 3 and 4 again"
   ]
  }
 ],
 "metadata": {
  "kernelspec": {
   "display_name": "3DMNN",
   "language": "python",
   "name": "3dmnn_cu9"
  },
  "language_info": {
   "codemirror_mode": {
    "name": "ipython",
    "version": 3
   },
   "file_extension": ".py",
   "mimetype": "text/x-python",
   "name": "python",
   "nbconvert_exporter": "python",
   "pygments_lexer": "ipython3",
   "version": "3.6.6"
  }
 },
 "nbformat": 4,
 "nbformat_minor": 2
}
