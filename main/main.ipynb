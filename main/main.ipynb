{
 "cells": [
  {
   "cell_type": "markdown",
   "metadata": {},
   "source": [
    "Procedurally Generating 3D Objects using Neural Networks\n",
    "\n",
    "## Loss function\n",
    "$$\n",
    "\\nabla \\theta_d \\frac{1}{m} \\sum_{i=1}^m (logD(x^{(i)}) + log(1-D(G(z^{(i)})))\\\\\n",
    "\\nabla \\theta_g \\frac{1}{m} \\sum_{i=1}^m log(1-D(G(z^{(i)}))\n",
    "$$"
   ]
  },
  {
   "cell_type": "code",
   "execution_count": 21,
   "metadata": {},
   "outputs": [
    {
     "name": "stdout",
     "output_type": "stream",
     "text": [
      "Test completed\n"
     ]
    }
   ],
   "source": [
    "print(\"Test completed\") \n"
   ]
  }
 ],
 "metadata": {
  "kernelspec": {
   "display_name": "py-env",
   "language": "python",
   "name": "py-env"
  },
  "language_info": {
   "codemirror_mode": {
    "name": "ipython",
    "version": 3
   },
   "file_extension": ".py",
   "mimetype": "text/x-python",
   "name": "python",
   "nbconvert_exporter": "python",
   "pygments_lexer": "ipython3",
   "version": "3.6.6"
  }
 },
 "nbformat": 4,
 "nbformat_minor": 2
}
